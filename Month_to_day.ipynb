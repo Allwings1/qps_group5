{
 "cells": [
  {
   "cell_type": "code",
   "execution_count": 10,
   "metadata": {},
   "outputs": [
    {
     "name": "stdout",
     "output_type": "stream",
     "text": [
      "Index(['日期', '中国:商品房销售额:累计同比', '中国:表观消费量:钢材:当月值', '中国:发电量:当月同比',\n",
      "       '中国:发电量:当月同比.1', '中国:铁路货运量:当月同比'],\n",
      "      dtype='object')\n",
      "              日期  中国:商品房销售额:累计同比  中国:表观消费量:钢材:当月值  中国:发电量:当月同比  中国:铁路货运量:当月同比\n",
      "0     1995-01-31        0.000000         0.000000     0.139286       0.000000\n",
      "1     1995-02-01        0.000000         0.000000     0.139286       0.000000\n",
      "2     1995-02-02        0.000000         0.000000     0.139286       0.000000\n",
      "3     1995-02-03        0.000000         0.000000     0.139286       0.000000\n",
      "4     1995-02-04        0.000000         0.000000     0.139286       0.000000\n",
      "...          ...             ...              ...          ...            ...\n",
      "10751 2025-01-26       -0.551613       354.815539     0.019355       0.161087\n",
      "10752 2025-01-27       -0.551613       354.815539     0.019355       0.161087\n",
      "10753 2025-01-28       -0.551613       354.815539     0.019355       0.161087\n",
      "10754 2025-01-29       -0.551613       354.815539     0.019355       0.161087\n",
      "10755 2025-01-30       -0.551613       354.815539     0.019355       0.161087\n",
      "\n",
      "[10756 rows x 5 columns]\n"
     ]
    }
   ],
   "source": [
    "import pandas as pd\n",
    "\n",
    "# 读取Excel文件\n",
    "file_path = 'macro_data.xlsx'  # 文件路径\n",
    "sheet_name = '经济景气'  # Sheet名\n",
    "\n",
    "# 读取数据\n",
    "df = pd.read_excel(file_path, sheet_name=sheet_name)\n",
    "\n",
    "# 打印列名，确保数据结构正确\n",
    "print(df.columns)\n",
    "\n",
    "# 将日期列转换为日期类型\n",
    "df['日期'] = pd.to_datetime(df['日期'], format='%Y-%m')  # 转换为日期类型\n",
    "\n",
    "# 创建一个新的数据框，用来存放日度数据\n",
    "daily_data = []\n",
    "\n",
    "# 遍历每一行数据\n",
    "for index, row in df.iterrows():\n",
    "    month_start = row['日期']\n",
    "    month_end = month_start + pd.DateOffset(months=1) - pd.DateOffset(days=1)\n",
    "    days_in_month = pd.date_range(month_start, month_end, freq='D')\n",
    "    \n",
    "    # 将每一天的所有经济数据添加到daily_data中\n",
    "    for day in days_in_month:\n",
    "        daily_data.append({'日期': day, \n",
    "                           '中国:商品房销售额:累计同比': row['中国:商品房销售额:累计同比'] / len(days_in_month),\n",
    "                           '中国:表观消费量:钢材:当月值': row['中国:表观消费量:钢材:当月值'] / len(days_in_month),\n",
    "                           '中国:发电量:当月同比': row['中国:发电量:当月同比'] / len(days_in_month),\n",
    "                           '中国:铁路货运量:当月同比': row['中国:铁路货运量:当月同比'] / len(days_in_month)})\n",
    "\n",
    "# 将日度数据转换为DataFrame\n",
    "daily_df = pd.DataFrame(daily_data)\n",
    "\n",
    "# 输出结果\n",
    "print(daily_df)\n",
    "\n",
    "# 保存为新的Excel文件\n",
    "daily_df.to_excel('daily_data.xlsx', index=False)\n",
    "\n"
   ]
  }
 ],
 "metadata": {
  "kernelspec": {
   "display_name": "cyc39",
   "language": "python",
   "name": "python3"
  },
  "language_info": {
   "codemirror_mode": {
    "name": "ipython",
    "version": 3
   },
   "file_extension": ".py",
   "mimetype": "text/x-python",
   "name": "python",
   "nbconvert_exporter": "python",
   "pygments_lexer": "ipython3",
   "version": "3.9.19"
  }
 },
 "nbformat": 4,
 "nbformat_minor": 2
}
